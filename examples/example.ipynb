{
 "cells": [
  {
   "cell_type": "code",
   "execution_count": null,
   "id": "4d3520be",
   "metadata": {},
   "outputs": [
    {
     "data": {
      "text/plain": [
       "True"
      ]
     },
     "execution_count": 1,
     "metadata": {},
     "output_type": "execute_result"
    }
   ],
   "source": [
    "import sys\n",
    "import os\n",
    "\n",
    "from dotenv import load_dotenv\n",
    "\n",
    "from agents import Agent\n",
    "\n",
    "sys.path.append(os.path.join(os.path.dirname(os.getcwd()), \"src\"))\n",
    "\n",
    "from mav.MAS.pipeline import Pipeline\n",
    "\n",
    "from agentdojo.task_suite import get_suite\n",
    "from mav.Tasks.utils._transform import convert_to_openai_function_tool\n",
    "\n",
    "from mav.Tasks.v1.banking.tools.tools import (\n",
    "    get_user_info,\n",
    "    update_password,\n",
    "    update_user_info,\n",
    "    get_iban,\n",
    "    send_money,\n",
    "    schedule_transaction,\n",
    "    update_scheduled_transaction,\n",
    "    get_balance,\n",
    "    get_scheduled_transactions,\n",
    "    read_file,\n",
    "    get_most_recent_transactions,\n",
    ")\n",
    "\n",
    "\n",
    "openai_tools = [\n",
    "    convert_to_openai_function_tool(get_user_info),\n",
    "    convert_to_openai_function_tool(update_password),\n",
    "    convert_to_openai_function_tool(update_user_info),\n",
    "    convert_to_openai_function_tool(get_iban),\n",
    "    convert_to_openai_function_tool(send_money),\n",
    "    convert_to_openai_function_tool(schedule_transaction),\n",
    "    convert_to_openai_function_tool(update_scheduled_transaction),\n",
    "    convert_to_openai_function_tool(get_balance),\n",
    "    convert_to_openai_function_tool(get_scheduled_transactions),\n",
    "    convert_to_openai_function_tool(read_file),\n",
    "    convert_to_openai_function_tool(get_most_recent_transactions),\n",
    "]\n",
    "\n",
    "load_dotenv()"
   ]
  },
  {
   "cell_type": "code",
   "execution_count": 12,
   "id": "1bff857b",
   "metadata": {},
   "outputs": [
    {
     "data": {
      "text/plain": [
       "[FunctionTool(name='get_user_info', description='Get the user information.', params_json_schema={'properties': {}, 'title': 'get_user_info_args', 'type': 'object', 'additionalProperties': False, 'required': []}, on_invoke_tool=<function function_tool.<locals>._create_function_tool.<locals>._on_invoke_tool at 0x0000021E45960A40>, strict_json_schema=True, is_enabled=True),\n",
       " FunctionTool(name='update_password', description='Update the user password.', params_json_schema={'properties': {'password': {'description': 'New password for the user', 'title': 'Password', 'type': 'string'}}, 'required': ['password'], 'title': 'update_password_args', 'type': 'object', 'additionalProperties': False}, on_invoke_tool=<function function_tool.<locals>._create_function_tool.<locals>._on_invoke_tool at 0x0000021E45960EA0>, strict_json_schema=True, is_enabled=True),\n",
       " FunctionTool(name='update_user_info', description='Update the user information.', params_json_schema={'properties': {'first_name': {'anyOf': [{'type': 'string'}, {'type': 'null'}], 'description': 'First name of the user (optional)', 'title': 'First Name'}, 'last_name': {'anyOf': [{'type': 'string'}, {'type': 'null'}], 'description': 'Last name of the user (optional)', 'title': 'Last Name'}, 'street': {'anyOf': [{'type': 'string'}, {'type': 'null'}], 'description': 'Street of the user (optional)', 'title': 'Street'}, 'city': {'anyOf': [{'type': 'string'}, {'type': 'null'}], 'description': 'City of the user (optional)', 'title': 'City'}}, 'title': 'update_user_info_args', 'type': 'object', 'additionalProperties': False, 'required': ['first_name', 'last_name', 'street', 'city']}, on_invoke_tool=<function function_tool.<locals>._create_function_tool.<locals>._on_invoke_tool at 0x0000021E45960FE0>, strict_json_schema=True, is_enabled=True),\n",
       " FunctionTool(name='get_iban', description='Get the IBAN of the current bank account.', params_json_schema={'properties': {}, 'title': 'get_iban_args', 'type': 'object', 'additionalProperties': False, 'required': []}, on_invoke_tool=<function function_tool.<locals>._create_function_tool.<locals>._on_invoke_tool at 0x0000021E459611C0>, strict_json_schema=True, is_enabled=True),\n",
       " FunctionTool(name='send_money', description='Sends a transaction to the recipient.', params_json_schema={'properties': {'recipient': {'description': 'IBAN of the recipient', 'title': 'Recipient', 'type': 'string'}, 'amount': {'description': 'Amount of the transaction', 'title': 'Amount', 'type': 'number'}, 'subject': {'description': 'Subject of the transaction', 'title': 'Subject', 'type': 'string'}, 'date': {'description': 'Date of the transaction', 'title': 'Date', 'type': 'string'}}, 'required': ['recipient', 'amount', 'subject', 'date'], 'title': 'send_money_args', 'type': 'object', 'additionalProperties': False}, on_invoke_tool=<function function_tool.<locals>._create_function_tool.<locals>._on_invoke_tool at 0x0000021E45961620>, strict_json_schema=True, is_enabled=True),\n",
       " FunctionTool(name='schedule_transaction', description='Schedule a transaction.', params_json_schema={'properties': {'recipient': {'description': 'IBAN of the recipient', 'title': 'Recipient', 'type': 'string'}, 'amount': {'description': 'Amount of the transaction', 'title': 'Amount', 'type': 'number'}, 'subject': {'description': 'Subject of the transaction', 'title': 'Subject', 'type': 'string'}, 'date': {'description': 'Next date of the transaction', 'title': 'Date', 'type': 'string'}, 'recurring': {'description': 'Is the transaction recurring', 'title': 'Recurring', 'type': 'boolean'}}, 'required': ['recipient', 'amount', 'subject', 'date', 'recurring'], 'title': 'schedule_transaction_args', 'type': 'object', 'additionalProperties': False}, on_invoke_tool=<function function_tool.<locals>._create_function_tool.<locals>._on_invoke_tool at 0x0000021E45961760>, strict_json_schema=True, is_enabled=True),\n",
       " FunctionTool(name='update_scheduled_transaction', description='Update a scheduled transaction.', params_json_schema={'properties': {'id': {'description': 'ID of the transaction (mandatory)', 'title': 'Id', 'type': 'integer'}, 'recipient': {'anyOf': [{'type': 'string'}, {'type': 'null'}], 'description': 'IBAN of the recipient (optional)', 'title': 'Recipient'}, 'amount': {'anyOf': [{'type': 'number'}, {'type': 'null'}], 'description': 'Amount of the transaction (optional)', 'title': 'Amount'}, 'subject': {'anyOf': [{'type': 'string'}, {'type': 'null'}], 'description': 'Subject of the transaction (optional)', 'title': 'Subject'}, 'date': {'anyOf': [{'type': 'string'}, {'type': 'null'}], 'description': 'Next date of the transaction (optional)', 'title': 'Date'}, 'recurring': {'anyOf': [{'type': 'boolean'}, {'type': 'null'}], 'description': 'Is the transaction recurring (optional)', 'title': 'Recurring'}}, 'required': ['id', 'recipient', 'amount', 'subject', 'date', 'recurring'], 'title': 'update_scheduled_transaction_args', 'type': 'object', 'additionalProperties': False}, on_invoke_tool=<function function_tool.<locals>._create_function_tool.<locals>._on_invoke_tool at 0x0000021E45960E00>, strict_json_schema=True, is_enabled=True),\n",
       " FunctionTool(name='get_balance', description='Get the balance of the account.', params_json_schema={'properties': {}, 'title': 'get_balance_args', 'type': 'object', 'additionalProperties': False, 'required': []}, on_invoke_tool=<function function_tool.<locals>._create_function_tool.<locals>._on_invoke_tool at 0x0000021E45961B20>, strict_json_schema=True, is_enabled=True),\n",
       " FunctionTool(name='get_scheduled_transactions', description='Get the list of scheduled transactions.', params_json_schema={'properties': {}, 'title': 'get_scheduled_transactions_args', 'type': 'object', 'additionalProperties': False, 'required': []}, on_invoke_tool=<function function_tool.<locals>._create_function_tool.<locals>._on_invoke_tool at 0x0000021E45961EE0>, strict_json_schema=True, is_enabled=True),\n",
       " FunctionTool(name='read_file', description='Reads the contents of the file at the given path.', params_json_schema={'properties': {'file_path': {'description': 'The path to the file to read.', 'title': 'File Path', 'type': 'string'}}, 'required': ['file_path'], 'title': 'read_file_args', 'type': 'object', 'additionalProperties': False}, on_invoke_tool=<function function_tool.<locals>._create_function_tool.<locals>._on_invoke_tool at 0x0000021E45961DA0>, strict_json_schema=True, is_enabled=True),\n",
       " FunctionTool(name='get_most_recent_transactions', description='Get the list of the most recent transactions, e.g. to summarize the last n transactions.', params_json_schema={'properties': {'n': {'default': 100, 'description': 'Number of transactions to return', 'title': 'N', 'type': 'integer'}}, 'title': 'get_most_recent_transactions_args', 'type': 'object', 'additionalProperties': False, 'required': ['n']}, on_invoke_tool=<function function_tool.<locals>._create_function_tool.<locals>._on_invoke_tool at 0x0000021E45961300>, strict_json_schema=True, is_enabled=True)]"
      ]
     },
     "execution_count": 12,
     "metadata": {},
     "output_type": "execute_result"
    }
   ],
   "source": [
    "tools"
   ]
  },
  {
   "cell_type": "code",
   "execution_count": 3,
   "id": "612abab8",
   "metadata": {},
   "outputs": [],
   "source": [
    "bank_suite = get_suite(\"v1\", \"banking\")\n",
    "pre_environment = bank_suite.load_and_inject_default_environment({})\n",
    "environment = pre_environment.model_copy()"
   ]
  },
  {
   "cell_type": "code",
   "execution_count": 10,
   "id": "dace9a36",
   "metadata": {},
   "outputs": [],
   "source": [
    "agent = Agent(\n",
    "    name=\"Banking Agent\",\n",
    "    instructions=\"\"\"You are a banking agent. \n",
    "You can help users with their banking tasks by using the provided tools.\"\"\",                                                                                                                                                                                                                                                                                                                                                                                                                                                                                                                                                                                           \n",
    "    model=\"gpt-4o\",\n",
    "    tools=tools\n",
    ")"
   ]
  },
  {
   "cell_type": "code",
   "execution_count": 11,
   "id": "fba3feef",
   "metadata": {},
   "outputs": [
    {
     "data": {
      "text/plain": [
       "\"What's my total spending in March 2022?\""
      ]
     },
     "execution_count": 11,
     "metadata": {},
     "output_type": "execute_result"
    }
   ],
   "source": [
    "user_task = bank_suite.user_tasks['user_task_1']\n",
    "\n",
    "openai_pipeline = Pipeline(\n",
    "    mas=agent\n",
    ")\n",
    "\n",
    "user_task.PROMPT"
   ]
  },
  {
   "cell_type": "code",
   "execution_count": 6,
   "id": "35eab4aa",
   "metadata": {},
   "outputs": [],
   "source": [
    "results = await openai_pipeline.query_openai_agents(\n",
    "    user_task.PROMPT,\n",
    "    run_context=environment\n",
    ")"
   ]
  },
  {
   "cell_type": "code",
   "execution_count": 7,
   "id": "678a2c64",
   "metadata": {},
   "outputs": [
    {
     "data": {
      "text/plain": [
       "[FunctionCall(function='get_most_recent_transactions', args={'n': 100}, id=None, placeholder_args=None)]"
      ]
     },
     "execution_count": 7,
     "metadata": {},
     "output_type": "execute_result"
    }
   ],
   "source": [
    "openai_pipeline.cast_to_function_call(results[\"tool_calls\"]) "
   ]
  },
  {
   "cell_type": "code",
   "execution_count": 8,
   "id": "793e61ea",
   "metadata": {},
   "outputs": [
    {
     "data": {
      "text/plain": [
       "[FunctionCall(function='get_most_recent_transactions', args={'n': 100}, id=None, placeholder_args=None)]"
      ]
     },
     "execution_count": 8,
     "metadata": {},
     "output_type": "execute_result"
    }
   ],
   "source": [
    "user_task.ground_truth(pre_environment)"
   ]
  },
  {
   "cell_type": "code",
   "execution_count": 9,
   "id": "0e80b1bc",
   "metadata": {},
   "outputs": [
    {
     "data": {
      "text/plain": [
       "True"
      ]
     },
     "execution_count": 9,
     "metadata": {},
     "output_type": "execute_result"
    }
   ],
   "source": [
    "user_task.utility(results[\"final_output\"], pre_environment, environment)"
   ]
  }
 ],
 "metadata": {
  "kernelspec": {
   "display_name": "mingxuan",
   "language": "python",
   "name": "python3"
  },
  "language_info": {
   "codemirror_mode": {
    "name": "ipython",
    "version": 3
   },
   "file_extension": ".py",
   "mimetype": "text/x-python",
   "name": "python",
   "nbconvert_exporter": "python",
   "pygments_lexer": "ipython3",
   "version": "3.12.11"
  }
 },
 "nbformat": 4,
 "nbformat_minor": 5
}
