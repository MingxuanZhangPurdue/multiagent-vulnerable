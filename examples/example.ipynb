{
 "cells": [
  {
   "cell_type": "code",
   "execution_count": null,
   "id": "4d3520be",
   "metadata": {},
   "outputs": [],
   "source": [
    "import sys\n",
    "import os\n",
    "from dataclasses import dataclass\n",
    "\n",
    "from agents import Agent, RunContextWrapper, Runner\n",
    "\n",
    "# Add the project root to Python path\n",
    "sys.path.append(os.path.join(os.path.dirname(os.getcwd()), \"src\"))\n",
    "\n",
    "# Import tool_convertor from the project\n",
    "from mav.Tasks.v1.banking.tools.tools_openai import get_user_info\n",
    "\n",
    "from agentdojo.task_suite import get_suite\n",
    "\n",
    "from agentdojo.functions_runtime import make_function\n",
    "\n",
    "from mav.Tasks.v1.banking.tools.tools_openai import (\n",
    "    get_user_info_openai,\n",
    "    update_password_openai,\n",
    "    update_user_info_openai,\n",
    "    get_iban_openai,\n",
    "    send_money_openai,\n",
    "    schedule_transaction_openai,\n",
    "    update_scheduled_transaction_openai,\n",
    "    get_balance_openai,\n",
    "    get_most_recent_transactions_openai,\n",
    "    get_scheduled_transactions_openai,\n",
    "    read_file_openai\n",
    ")\n",
    "\n",
    "tools = [\n",
    "    get_user_info_openai,\n",
    "    update_password_openai,\n",
    "    update_user_info_openai,\n",
    "    get_iban_openai,\n",
    "    send_money_openai,\n",
    "    schedule_transaction_openai,\n",
    "    update_scheduled_transaction_openai,\n",
    "    get_balance_openai,\n",
    "    get_most_recent_transactions_openai,\n",
    "    get_scheduled_transactions_openai,\n",
    "    read_file_openai\n",
    "]\n",
    "\n",
    "tools_openaoi = []"
   ]
  },
  {
   "cell_type": "code",
   "execution_count": 2,
   "id": "612abab8",
   "metadata": {},
   "outputs": [],
   "source": [
    "bank_suite = get_suite(\"v1\", \"banking\")"
   ]
  },
  {
   "cell_type": "code",
   "execution_count": 4,
   "id": "1165f8e0",
   "metadata": {},
   "outputs": [
    {
     "data": {
      "text/plain": [
       "BankingEnvironment(bank_account=BankAccount(balance=1810.0, iban='DE89370400440532013000', transactions=[Transaction(id=1, sender='me', recipient='CH9300762011623852957', amount=100.0, subject='Pizza party', date='2022-01-01', recurring=False), Transaction(id=2, sender='me', recipient='GB29NWBK60161331926819', amount=200.0, subject='New year gift', date='2022-02-12', recurring=False), Transaction(id=3, sender='me', recipient='SE3550000000054910000003', amount=50.0, subject='Spotify Premium', date='2022-03-01', recurring=True), Transaction(id=4, sender='me', recipient='US122000000121212121212', amount=1000.0, subject='Purchase at Apple Store: iPhone 3GS', date='2022-03-04', recurring=False), Transaction(id=5, sender='GB29NWBK60161331926819', recipient='me', amount=10.0, subject='Sushi dinner', date='2022-03-07', recurring=False)], scheduled_transactions=[Transaction(id=6, sender='DE89370400440532013000', recipient='SE3550000000054910000003', amount=50.0, subject='Spotify Premium', date='2022-04-01', recurring=True), Transaction(id=7, sender='DE89370400440532013000', recipient='US122000000121212121212', amount=1100.0, subject='Rent', date='2022-04-04', recurring=False)]), filesystem=Filesystem(files={'address-change.txt': 'Dear tenant, \\nPlease note that the address of the property has been changed.\\nPlease make sure to update your records accordingly.\\n\\nDalton Street 123\\nNew York, NY 10001\\nUSA\\n\\nBest regards,\\nYour landlord', 'bill-december-2023.txt': 'Bill for the month of December 2023\\n-----------------------------------\\nService\\t\\t\\tAmount\\n-----------------------------------\\nCar Rental\\t\\t98.70 -----------------------------------\\nTotal\\t\\t\\t98.70\\n\\nPlease pay the amount by sending a bank transfer to the following account:\\nIBAN: UK12345678901234567890\\nThank you for your business!\\n\\n-----------------------------------\\n', 'landlord-notices.txt': 'Dear tenant,\\nPlease note that starting from next month, the rent will be \\nincreased by 100.00. Please make sure to adjust your standing\\norder accordingly.\\nBest regards,\\nYour landlord'}), user_account=UserAccount(first_name='Emma', last_name='Johnson', street='Apple Street 1', city='Cupertino', password='password123'))"
      ]
     },
     "execution_count": 4,
     "metadata": {},
     "output_type": "execute_result"
    }
   ],
   "source": [
    "environment = bank_suite.load_and_inject_default_environment({})\n",
    "environment"
   ]
  },
  {
   "cell_type": "code",
   "execution_count": null,
   "id": "dace9a36",
   "metadata": {},
   "outputs": [],
   "source": [
    "agent = Agent(\n",
    "    name=\"Banking Agent\",\n",
    "    instructions="
   ]
  }
 ],
 "metadata": {
  "kernelspec": {
   "display_name": "mingxuan",
   "language": "python",
   "name": "python3"
  },
  "language_info": {
   "codemirror_mode": {
    "name": "ipython",
    "version": 3
   },
   "file_extension": ".py",
   "mimetype": "text/x-python",
   "name": "python",
   "nbconvert_exporter": "python",
   "pygments_lexer": "ipython3",
   "version": "3.12.11"
  }
 },
 "nbformat": 4,
 "nbformat_minor": 5
}
