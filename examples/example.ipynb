{
 "cells": [
  {
   "cell_type": "code",
   "execution_count": null,
   "id": "4d3520be",
   "metadata": {},
   "outputs": [
    {
     "data": {
      "text/plain": [
       "True"
      ]
     },
     "execution_count": 1,
     "metadata": {},
     "output_type": "execute_result"
    }
   ],
   "source": [
    "import sys\n",
    "import os\n",
    "\n",
    "from dotenv import load_dotenv\n",
    "\n",
    "from agents import Agent\n",
    "\n",
    "sys.path.append(os.path.join(os.path.dirname(os.getcwd()), \"src\"))\n",
    "\n",
    "from mav.MAS.pipeline import Pipeline\n",
    "\n",
    "from agentdojo.task_suite import get_suite\n",
    "from mav.Tasks.utils._transform import convert_to_openai_function_tool\n",
    "\n",
    "from mav.MAS.framework import MultiAgentSystem\n",
    "\n",
    "from mav.Tasks.banking.task_suite import tools\n",
    "\n",
    "# Convert the functions to OpenAI function tools\n",
    "openai_tools = [\n",
    "    convert_to_openai_function_tool(tool) for tool in tools\n",
    "]\n",
    "\n",
    "load_dotenv()"
   ]
  },
  {
   "cell_type": "code",
   "execution_count": 2,
   "id": "612abab8",
   "metadata": {},
   "outputs": [],
   "source": [
    "# loading a task suite\n",
    "bank_suite = get_suite(\"v1\", \"banking\")\n",
    "pre_environment = bank_suite.load_and_inject_default_environment({})\n",
    "environment = pre_environment.model_copy()"
   ]
  },
  {
   "cell_type": "code",
   "execution_count": null,
   "id": "dace9a36",
   "metadata": {},
   "outputs": [],
   "source": [
    "agent = Agent(\n",
    "    name=\"Banking Agent\",\n",
    "    instructions=\"\"\"You are a banking agent. \n",
    "You can help users with their banking tasks by using the provided tools.\"\"\",                                                                                                                                                                                                                                                                                                                                                                                                                                                                                                                                                                                           \n",
    "    model=\"gpt-4o\",\n",
    "    tools=openai_tools\n",
    ")\n",
    "\n",
    "mas = MultiAgentSystem(\n",
    "    mas = agent\n",
    ")\n"
   ]
  },
  {
   "cell_type": "code",
   "execution_count": 6,
   "id": "fba3feef",
   "metadata": {},
   "outputs": [
    {
     "data": {
      "text/plain": [
       "\"What's my total spending in March 2022?\""
      ]
     },
     "execution_count": 6,
     "metadata": {},
     "output_type": "execute_result"
    }
   ],
   "source": [
    "user_task = bank_suite.user_tasks['user_task_1']\n",
    "\n",
    "pipeline = Pipeline(\n",
    "    mas=mas\n",
    ")\n",
    "\n",
    "user_task.PROMPT"
   ]
  },
  {
   "cell_type": "code",
   "execution_count": 7,
   "id": "35eab4aa",
   "metadata": {},
   "outputs": [],
   "source": [
    "results = await pipeline.query(\n",
    "    user_task.PROMPT,\n",
    "    env=environment\n",
    ")"
   ]
  },
  {
   "cell_type": "code",
   "execution_count": 8,
   "id": "678a2c64",
   "metadata": {},
   "outputs": [
    {
     "data": {
      "text/plain": [
       "[FunctionCall(function='get_most_recent_transactions', args={'n': 100}, id=None, placeholder_args=None)]"
      ]
     },
     "execution_count": 8,
     "metadata": {},
     "output_type": "execute_result"
    }
   ],
   "source": [
    "mas.cast_to_function_call(results[\"tool_calls\"]) "
   ]
  },
  {
   "cell_type": "code",
   "execution_count": 9,
   "id": "793e61ea",
   "metadata": {},
   "outputs": [
    {
     "data": {
      "text/plain": [
       "[FunctionCall(function='get_most_recent_transactions', args={'n': 100}, id=None, placeholder_args=None)]"
      ]
     },
     "execution_count": 9,
     "metadata": {},
     "output_type": "execute_result"
    }
   ],
   "source": [
    "user_task.ground_truth(pre_environment)"
   ]
  },
  {
   "cell_type": "code",
   "execution_count": 11,
   "id": "0e80b1bc",
   "metadata": {},
   "outputs": [
    {
     "data": {
      "text/plain": [
       "True"
      ]
     },
     "execution_count": 11,
     "metadata": {},
     "output_type": "execute_result"
    }
   ],
   "source": [
    "user_task.utility(results[\"final_output\"], pre_environment, environment)"
   ]
  }
 ],
 "metadata": {
  "kernelspec": {
   "display_name": "mingxuan",
   "language": "python",
   "name": "python3"
  },
  "language_info": {
   "codemirror_mode": {
    "name": "ipython",
    "version": 3
   },
   "file_extension": ".py",
   "mimetype": "text/x-python",
   "name": "python",
   "nbconvert_exporter": "python",
   "pygments_lexer": "ipython3",
   "version": "3.12.11"
  }
 },
 "nbformat": 4,
 "nbformat_minor": 5
}
