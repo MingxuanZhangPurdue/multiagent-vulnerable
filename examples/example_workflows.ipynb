{
 "cells": [
  {
   "cell_type": "code",
   "execution_count": 2,
   "id": "eb760032",
   "metadata": {},
   "outputs": [
    {
     "data": {
      "text/plain": [
       "True"
      ]
     },
     "execution_count": 2,
     "metadata": {},
     "output_type": "execute_result"
    }
   ],
   "source": [
    "import sys\n",
    "import os\n",
    "\n",
    "from dotenv import load_dotenv\n",
    "\n",
    "from agents import Agent\n",
    "\n",
    "sys.path.append(os.path.join(os.path.dirname(os.getcwd()), \"src\"))\n",
    "\n",
    "from mav.MAS.pipeline import Pipeline\n",
    "\n",
    "from mav.benchmark import benchmark_suite_without_injections\n",
    "\n",
    "from mav.Tasks.load_task_suites import get_suite\n",
    "from mav.Tasks.utils._transform import convert_to_openai_function_tool\n",
    "\n",
    "from mav.MAS.framework import MultiAgentSystem\n",
    "\n",
    "load_dotenv()"
   ]
  },
  {
   "cell_type": "code",
   "execution_count": 3,
   "id": "b9ff40ff",
   "metadata": {},
   "outputs": [],
   "source": [
    "# loading a task suite\n",
    "slack_task_suite = get_suite(\"slack\")\n",
    "banking_task_suite = get_suite(\"banking\")\n",
    "travel_task_suite = get_suite(\"travel\")\n",
    "\n",
    "# convert to openai function tools\n",
    "banking_openai_tools = []\n",
    "slack_openai_tools = []\n",
    "travel_openai_tools = []\n",
    "\n",
    "for tool in travel_task_suite.tools:\n",
    "    try:\n",
    "        travel_openai_tools.append(convert_to_openai_function_tool(tool))\n",
    "    except Exception as e:\n",
    "        print(f\"Error converting tool {tool.__name__}: {e}\")\n",
    "\n",
    "for tool in banking_task_suite.tools:\n",
    "    try:\n",
    "        banking_openai_tools.append(convert_to_openai_function_tool(tool))\n",
    "    except Exception as e:\n",
    "        print(f\"Error converting tool {tool.__name__}: {e}\")\n",
    "\n",
    "for tool in slack_task_suite.tools:\n",
    "    try:\n",
    "        slack_openai_tools.append(convert_to_openai_function_tool(tool))\n",
    "    except Exception as e:\n",
    "        print(f\"Error converting tool {tool.__name__}: {e}\")"
   ]
  },
  {
   "cell_type": "code",
   "execution_count": 7,
   "id": "d630802e",
   "metadata": {},
   "outputs": [],
   "source": [
    "banking_agent = Agent(\n",
    "    name=\"Banking Agent\",\n",
    "    instructions=\"\"\"You are an intelligent banking agent that handles user queries using available tools.\"\"\",\n",
    "    model=\"gpt-4o\",\n",
    "    tools=banking_openai_tools,\n",
    ")\n",
    "\n",
    "slack_agent = Agent(\n",
    "    name=\"Slack Agent\",\n",
    "    instructions=\"\"\"You are a Slack agent that interacts with users on Slack and handles their requests using available tools.\"\"\",\n",
    "    model=\"gpt-4o\",\n",
    "    tools=slack_openai_tools,\n",
    ")\n",
    "\n",
    "travel_agent = Agent(\n",
    "    name=\"Travel Agent\",\n",
    "    instructions=\"\"\"You are a travel agent that assists users with their travel plans and bookings using available tools.\"\"\",\n",
    "    model=\"gpt-4o\",\n",
    "    tools=travel_openai_tools,\n",
    ")"
   ]
  },
  {
   "cell_type": "markdown",
   "id": "301bc860",
   "metadata": {},
   "source": [
    "# Sequential Workflow"
   ]
  },
  {
   "cell_type": "code",
   "execution_count": null,
   "id": "3787f9fd",
   "metadata": {},
   "outputs": [
    {
     "name": "stderr",
     "output_type": "stream",
     "text": [
      "[non-fatal] Tracing: server error 500, retrying.\n",
      "[non-fatal] Tracing: server error 500, retrying.\n",
      "[non-fatal] Tracing: server error 500, retrying.\n",
      "[non-fatal] Tracing: server error 500, retrying.\n",
      "[non-fatal] Tracing: server error 500, retrying.\n",
      "[non-fatal] Tracing: server error 500, retrying.\n",
      "[non-fatal] Tracing: server error 500, retrying.\n",
      "[non-fatal] Tracing: server error 500, retrying.\n",
      "[non-fatal] Tracing: server error 500, retrying.\n",
      "[non-fatal] Tracing: server error 500, retrying.\n"
     ]
    },
    {
     "name": "stderr",
     "output_type": "stream",
     "text": [
      "[non-fatal] Tracing: server error 500, retrying.\n"
     ]
    }
   ],
   "source": [
    "summary_agent = Agent(\n",
    "    name=\"Summary Agent\",\n",
    "    instructions=\"\"\"You are an intelligent response summarization agent that summarizes the responses from other agents.\"\"\",\n",
    "    model=\"gpt-4o\",\n",
    ")\n",
    "\n",
    "banking_agent.handoffs = [summary_agent]\n",
    "\n",
    "mas = MultiAgentSystem(\n",
    "    mas=banking_agent\n",
    ")\n",
    "\n",
    "# create a pipeline\n",
    "pipeline = Pipeline(\n",
    "    mas=mas\n",
    ")\n",
    "\n",
    "results = await benchmark_suite_without_injections(\n",
    "    agent_pipeline=pipeline,\n",
    "    suite=banking_task_suite,\n",
    ")"
   ]
  },
  {
   "cell_type": "markdown",
   "id": "b95a1c8b",
   "metadata": {},
   "source": [
    "# Handoffs Workflow"
   ]
  },
  {
   "cell_type": "code",
   "execution_count": null,
   "id": "3810be80",
   "metadata": {},
   "outputs": [],
   "source": [
    "triage_agent = Agent(\n",
    "    name=\"Manager Agent\",\n",
    "    instructions=\"\"\"You are a manager agent that triages tasks to other agents based on their expertise.\"\"\",                                                                                                                                                                                                                                                                                                                                                                                                                                                                                                                                                                                           \n",
    "    model=\"gpt-4o\",\n",
    "    handoffs=[banking_agent, slack_agent, travel_agent],\n",
    ")\n",
    "\n",
    "mas = MultiAgentSystem(\n",
    "    mas=banking_agent\n",
    ")\n",
    "\n",
    "# create a pipeline\n",
    "pipeline = Pipeline(\n",
    "    mas=mas\n",
    ")\n",
    "\n",
    "results = await benchmark_suite_without_injections(\n",
    "    agent_pipeline=pipeline,\n",
    "    suite=banking_task_suite,\n",
    ")"
   ]
  },
  {
   "cell_type": "markdown",
   "id": "fce51194",
   "metadata": {},
   "source": [
    "# Agents as Tools"
   ]
  },
  {
   "cell_type": "code",
   "execution_count": null,
   "id": "da00c8d3",
   "metadata": {},
   "outputs": [],
   "source": [
    "orchestrator_agent = Agent(\n",
    "    name=\"orchestrator_agent\",\n",
    "    instructions=(\n",
    "        \"You are an orchestrator agent that uses different tools to handle user requests. \"\n",
    "    ),\n",
    "    tools=[\n",
    "        banking_agent.as_tool(\n",
    "            tool_name=\"banking_tool\",\n",
    "            tool_description=\"This tool handles banking-related queries and tasks.\",\n",
    "        ),\n",
    "        slack_agent.as_tool(\n",
    "            tool_name=\"slack_tool\",\n",
    "            tool_description=\"This tool interacts with users on Slack and handles their requests.\",\n",
    "        ),\n",
    "        travel_agent.as_tool(\n",
    "            tool_name=\"travel_tool\",\n",
    "            tool_description=\"This tool assists users with their travel plans and bookings.\",\n",
    "        ),\n",
    "    ],\n",
    ")\n",
    "\n",
    "mas = MultiAgentSystem(\n",
    "    mas=banking_agent\n",
    ")\n",
    "\n",
    "# create a pipeline\n",
    "pipeline = Pipeline(\n",
    "    mas=mas\n",
    ")\n",
    "\n",
    "results = await benchmark_suite_without_injections(\n",
    "    agent_pipeline=pipeline,\n",
    "    suite=banking_task_suite,\n",
    ")"
   ]
  },
  {
   "cell_type": "code",
   "execution_count": null,
   "id": "3fcaefc6",
   "metadata": {},
   "outputs": [],
   "source": []
  }
 ],
 "metadata": {
  "kernelspec": {
   "display_name": "mingxuan",
   "language": "python",
   "name": "python3"
  },
  "language_info": {
   "codemirror_mode": {
    "name": "ipython",
    "version": 3
   },
   "file_extension": ".py",
   "mimetype": "text/x-python",
   "name": "python",
   "nbconvert_exporter": "python",
   "pygments_lexer": "ipython3",
   "version": "3.12.11"
  }
 },
 "nbformat": 4,
 "nbformat_minor": 5
}
