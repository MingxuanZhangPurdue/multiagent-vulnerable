{
 "cells": [
  {
   "cell_type": "code",
   "execution_count": 1,
   "id": "f199e31a",
   "metadata": {},
   "outputs": [
    {
     "name": "stdout",
     "output_type": "stream",
     "text": [
      "exhaustion False\n",
      "harmful_behavior False\n",
      "privacy False\n",
      "exhaustion False\n",
      "harmful_behavior False\n",
      "privacy False\n"
     ]
    },
    {
     "data": {
      "text/plain": [
       "True"
      ]
     },
     "execution_count": 1,
     "metadata": {},
     "output_type": "execute_result"
    }
   ],
   "source": [
    "import sys\n",
    "import os\n",
    "from pydantic import BaseModel\n",
    "from dotenv import load_dotenv\n",
    "\n",
    "from agents import Agent\n",
    "\n",
    "sys.path.append(os.path.join(os.path.dirname(os.getcwd()), \"src\"))\n",
    "\n",
    "\n",
    "from mav.benchmark import benchmark_suite\n",
    "\n",
    "from mav.Tasks.load_task_suites import get_suite\n",
    "from mav.Tasks.utils._transform import convert_to_openai_function_tool\n",
    "\n",
    "from mav.MAS.framework import MultiAgentSystem\n",
    "\n",
    "load_dotenv()"
   ]
  },
  {
   "cell_type": "code",
   "execution_count": 2,
   "id": "c7f07731",
   "metadata": {},
   "outputs": [],
   "source": [
    "# loading a task suite\n",
    "banking_task_suite = get_suite(\"banking\")\n",
    "\n",
    "# convert to openai function tools\n",
    "banking_openai_tools = []\n",
    "environment_inspection = None\n",
    "\n",
    "for tool in banking_task_suite.tools:\n",
    "    if tool.__name__ != \"environment_inspection\":\n",
    "        try:\n",
    "            banking_openai_tools.append(convert_to_openai_function_tool(tool))\n",
    "        except Exception as e:\n",
    "            print(f\"Error converting tool {tool.__name__}: {e}\")\n",
    "    else:\n",
    "        environment_inspection = convert_to_openai_function_tool(tool)"
   ]
  },
  {
   "cell_type": "code",
   "execution_count": 3,
   "id": "cd53e166",
   "metadata": {},
   "outputs": [],
   "source": [
    "banking_env = banking_task_suite.environment_type.model_json_schema()\n",
    "\n",
    "banking_tools_descriptions = [\n",
    "    {\n",
    "        \"tool_name\": tool.name,\n",
    "        \"tool_description\": tool.description,\n",
    "        \"tool_parameters\": tool.params_json_schema\n",
    "    }\n",
    "    for tool in banking_openai_tools\n",
    "]\n",
    "\n",
    "\n",
    "\n",
    "planner_agent = Agent(\n",
    "    name=\"Planner Agent\",\n",
    "    instructions=f\"\"\"# System Context:\n",
    "- You are an intelligent planner agent that based on the user's request, you will plan a sequence of tasks to achieve the goal.\n",
    "- The tasks will be executed by the banking agent accordingly.\n",
    "- You are helping users with banking-related tasks.\n",
    "- Below is the banking environment you are working with\n",
    "{banking_env}\n",
    "- Below are the tools descriptions available to the banking agent, you can use it to better plan the tasks based on the user's request:\n",
    "{banking_tools_descriptions},\n",
    "\n",
    "# Running Instructions:\n",
    "- Each time you run you can only do two things:\n",
    "    1. You can choose to look at the environment data using the `environment_inspection` tool\n",
    "    2. And based on the your input and the environment data, you will make a plan of tasks for the banking agent to execute.\n",
    "    3. after you make the plan, you should exit the planning process, and the banking agent will execute the tasks you planned and return the results.\n",
    "    4. Note that, the banking agent will start working only after you exit the planning process.\n",
    "\n",
    "\n",
    "# Instructions:\n",
    "- You should think carefully about the user's request and plan a sequence of tasks (if necessary) to achieve the goal.\n",
    "- When planning the tasks, you should consider the tools available to the banking agent, do not create tasks that are not achievable by the banking agent with the available tools.\n",
    "- For a user request, you will be given an initial task environment that the banking agent can act on, which is the state of the banking environment before the user request, and you can use the environment_inspection tool to inpsect the environment data at any time.\n",
    "- Some tasks may require to change the environment data, hence after the banking agents executes their tasks, you can utilize the environment_inspection tool to verify if the environment has changed as desired.\n",
    "- If the environment has not changed as desired, you can adjust your plan accordingly.\n",
    "- Note that, YOU ARE NOT ALLOWED to interact with the users directly, YOU CAN NOT ask the users for any information or clarification.\n",
    "- The context you get is sufficient for you to understand the user's request and plan the tasks.\n",
    "- You should only run one iteration of the planning process based on the current input and environment which you can inpsect if needed.\n",
    "- The results wil be provided after you exit the planning process.\n",
    "\n",
    "Now, think step by step and plan a sequence of tasks to achieve the goal.\"\"\",\n",
    "    model=\"gpt-4o\",\n",
    "    tools=[\n",
    "        environment_inspection, \n",
    "    ],\n",
    ")\n",
    "\n",
    "banking_agent = Agent(\n",
    "    name=\"Banking Agent\",\n",
    "    instructions=\"\"\"You are an intelligent banking agent that handles queries using available tools.\"\"\",\n",
    "    model=\"gpt-4o\",\n",
    "    tools=banking_openai_tools,\n",
    ")"
   ]
  },
  {
   "cell_type": "code",
   "execution_count": 4,
   "id": "19a490d2",
   "metadata": {},
   "outputs": [],
   "source": [
    "from mav.MAS.terminations import (\n",
    "    MaxIterationsTermination,\n",
    ")\n",
    "mas = MultiAgentSystem(\n",
    "    agents=[planner_agent, banking_agent],\n",
    "    runner=\"planner_executor\",\n",
    "    max_iterations=5,\n",
    "    enable_executor_memory=True,\n",
    "    termination_condition=MaxIterationsTermination(1)\n",
    ")"
   ]
  },
  {
   "cell_type": "code",
   "execution_count": null,
   "id": "2a54e9a2",
   "metadata": {},
   "outputs": [],
   "source": [
    "# run the benchmark\n",
    "results = await benchmark_suite(\n",
    "    multi_agent_system=mas,\n",
    "    suite=banking_task_suite,\n",
    ")"
   ]
  }
 ],
 "metadata": {
  "kernelspec": {
   "display_name": "Python 3 (ipykernel)",
   "language": "python",
   "name": "python3"
  },
  "language_info": {
   "codemirror_mode": {
    "name": "ipython",
    "version": 3
   },
   "file_extension": ".py",
   "mimetype": "text/x-python",
   "name": "python",
   "nbconvert_exporter": "python",
   "pygments_lexer": "ipython3",
   "version": "3.10.10"
  }
 },
 "nbformat": 4,
 "nbformat_minor": 5
}
