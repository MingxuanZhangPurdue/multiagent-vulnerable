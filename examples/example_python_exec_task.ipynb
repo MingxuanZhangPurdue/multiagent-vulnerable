{
 "cells": [
  {
   "cell_type": "code",
   "execution_count": 1,
   "id": "6d49c1e4-e2ad-42c7-bcfc-28000a52483d",
   "metadata": {},
   "outputs": [
    {
     "name": "stdout",
     "output_type": "stream",
     "text": [
      "Loading task suite from: workspace\n",
      "Loading task suite from: banking\n",
      "Loading task suite from: python_exec\n",
      "Successfully registered 600 python_exec attack tasks\n",
      "Loading task suite from: slack\n",
      "Loading task suite from: travel\n"
     ]
    },
    {
     "data": {
      "text/plain": [
       "True"
      ]
     },
     "execution_count": 1,
     "metadata": {},
     "output_type": "execute_result"
    }
   ],
   "source": [
    "import sys\n",
    "import os\n",
    "from pydantic import BaseModel\n",
    "from dotenv import load_dotenv\n",
    "\n",
    "from agents import Agent, trace\n",
    "\n",
    "sys.path.append(os.path.join(os.path.dirname(os.getcwd()), \"src\"))\n",
    "\n",
    "\n",
    "from mav.benchmark import benchmark_suite\n",
    "\n",
    "from mav.Tasks.load_task_suites import get_suite, get_suites\n",
    "from mav.Tasks.utils._transform import convert_to_openai_function_tool\n",
    "\n",
    "from mav.MAS.framework import MultiAgentSystem\n",
    "\n",
    "load_dotenv()"
   ]
  },
  {
   "cell_type": "code",
   "execution_count": 2,
   "id": "c38904ee-fb65-486d-876d-981555fb94bc",
   "metadata": {},
   "outputs": [],
   "source": [
    "# loading a task suite\n",
    "task_suite = get_suite(\"python_exec\")\n"
   ]
  },
  {
   "cell_type": "code",
   "execution_count": 3,
   "id": "08eb7b92-07f7-4a39-9914-eb561470139d",
   "metadata": {},
   "outputs": [
    {
     "data": {
      "text/plain": [
       "{'user_task': 'UserTask', 'python_exec': 'PythonExecAttackTask'}"
      ]
     },
     "execution_count": 3,
     "metadata": {},
     "output_type": "execute_result"
    }
   ],
   "source": [
    "task_suite.task_types"
   ]
  },
  {
   "cell_type": "code",
   "execution_count": null,
   "id": "69f1e9d1-445c-4b67-a938-643287321dea",
   "metadata": {},
   "outputs": [],
   "source": []
  }
 ],
 "metadata": {
  "kernelspec": {
   "display_name": "Python (myenv)",
   "language": "python",
   "name": "multiagent"
  },
  "language_info": {
   "codemirror_mode": {
    "name": "ipython",
    "version": 3
   },
   "file_extension": ".py",
   "mimetype": "text/x-python",
   "name": "python",
   "nbconvert_exporter": "python",
   "pygments_lexer": "ipython3",
   "version": "3.10.18"
  }
 },
 "nbformat": 4,
 "nbformat_minor": 5
}
