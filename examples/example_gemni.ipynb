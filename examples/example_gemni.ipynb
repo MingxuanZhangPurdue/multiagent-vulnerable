{
 "cells": [
  {
   "cell_type": "markdown",
   "id": "7438457f",
   "metadata": {},
   "source": [
    "## Put your Gemini key in the .env file by this name:\n",
    "\n",
    "### GEMINI_API_KEY = \"YOUR KEY HERE\""
   ]
  },
  {
   "cell_type": "code",
   "execution_count": null,
   "id": "c9f7118b",
   "metadata": {},
   "outputs": [],
   "source": [
    "import sys\n",
    "import os\n",
    "\n",
    "from dotenv import load_dotenv\n",
    "\n",
    "from agents import Agent\n",
    "\n",
    "sys.path.append(os.path.join(os.path.dirname(os.getcwd()), \"src\"))\n",
    "\n",
    "from mav.MAS.pipeline import Pipeline\n",
    "\n",
    "from mav.benchmark import benchmark_suite_without_injections\n",
    "\n",
    "from mav.Tasks.load_task_suites import get_suite\n",
    "from mav.Tasks.utils._transform import convert_to_openai_function_tool\n",
    "\n",
    "from mav.MAS.framework import MultiAgentSystem\n",
    "\n",
    "from agents.extensions.models.litellm_model import LitellmModel\n",
    "\n",
    "load_dotenv()"
   ]
  },
  {
   "cell_type": "code",
   "execution_count": 2,
   "id": "bd7eb156",
   "metadata": {},
   "outputs": [],
   "source": [
    "# loading a task suite\n",
    "slack_task_suite = get_suite(\"slack\")\n",
    "banking_task_suite = get_suite(\"banking\")\n",
    "travel_task_suite = get_suite(\"travel\")\n",
    "\n",
    "# convert to openai function tools\n",
    "banking_openai_tools = []\n",
    "slack_openai_tools = []\n",
    "travel_openai_tools = []\n",
    "\n",
    "for tool in travel_task_suite.tools:\n",
    "    try:\n",
    "        travel_openai_tools.append(convert_to_openai_function_tool(tool))\n",
    "    except Exception as e:\n",
    "        print(f\"Error converting tool {tool.__name__}: {e}\")\n",
    "\n",
    "for tool in banking_task_suite.tools:\n",
    "    try:\n",
    "        banking_openai_tools.append(convert_to_openai_function_tool(tool))\n",
    "    except Exception as e:\n",
    "        print(f\"Error converting tool {tool.__name__}: {e}\")\n",
    "\n",
    "for tool in slack_task_suite.tools:\n",
    "    try:\n",
    "        slack_openai_tools.append(convert_to_openai_function_tool(tool))\n",
    "    except Exception as e:\n",
    "        print(f\"Error converting tool {tool.__name__}: {e}\")\n",
    "\n",
    "# create an multi-agent system\n",
    "banking_agent = Agent(\n",
    "    name=\"Banking Agent\",\n",
    "    instructions=\"\"\"You are an intelligent banking agent that handles user queries using available tools.\"\"\",\n",
    "    model=LitellmModel(model=\"gemini/gemini-2.5-flash\", api_key=os.getenv(\"GEMINI_API_KEY\", None)),\n",
    "    tools=banking_openai_tools,\n",
    ")\n",
    "\n",
    "slack_agent = Agent(\n",
    "    name=\"Slack Agent\",\n",
    "    instructions=\"\"\"You are a Slack agent that interacts with users on Slack and handles their requests using available tools.\"\"\",\n",
    "    model=LitellmModel(model=\"gemini/gemini-2.5-flash\", api_key=os.getenv(\"GEMINI_API_KEY\", None)),\n",
    "    tools=slack_openai_tools,\n",
    ")\n",
    "\n",
    "travel_agent = Agent(\n",
    "    name=\"Travel Agent\",\n",
    "    instructions=\"\"\"You are a travel agent that assists users with their travel plans and bookings using available tools.\"\"\",\n",
    "    model=LitellmModel(model=\"gemini/gemini-2.5-flash\", api_key=os.getenv(\"GEMINI_API_KEY\", None)),\n",
    "    tools=travel_openai_tools,\n",
    ")\n",
    "\n",
    "triage_agent = Agent(\n",
    "    name=\"Manager Agent\",\n",
    "    instructions=\"\"\"You are a manager agent that triages tasks to other agents based on their expertise.\"\"\",                                                                                                                                                                                                                                                                                                                                                                                                                                                                                                                                                                                           \n",
    "    model=LitellmModel(model=\"gemini/gemini-2.5-flash\", api_key=os.getenv(\"GEMINI_API_KEY\", None)),\n",
    "    handoffs=[banking_agent, slack_agent, travel_agent],\n",
    ")\n",
    "\n",
    "mas = MultiAgentSystem(\n",
    "    mas=banking_agent\n",
    ")\n",
    "\n",
    "# create a pipeline\n",
    "pipeline = Pipeline(\n",
    "    mas=mas\n",
    ")"
   ]
  },
  {
   "cell_type": "code",
   "execution_count": 3,
   "id": "e95d2876",
   "metadata": {},
   "outputs": [],
   "source": [
    "# run the benchmark\n",
    "results = await benchmark_suite_without_injections(\n",
    "    agent_pipeline=pipeline,\n",
    "    suite=banking_task_suite,\n",
    ")"
   ]
  },
  {
   "cell_type": "code",
   "execution_count": 4,
   "id": "ad918823",
   "metadata": {},
   "outputs": [
    {
     "name": "stdout",
     "output_type": "stream",
     "text": [
      "Utility Percentage: 43.75%\n",
      "Function Calls Match Percentage: 6.25%\n"
     ]
    }
   ],
   "source": [
    "# get percentage of utilty been true and percentage of fucntion calls match true\n",
    "utility_count = sum(1 for result in results.values() if result[\"utility\"])\n",
    "function_calls_match_count = sum(\n",
    "    1 for result in results.values() if result[\"function_calls_match\"]\n",
    ")\n",
    "print(f\"Utility Percentage: {utility_count / len(results) * 100:.2f}%\")\n",
    "print(f\"Function Calls Match Percentage: {function_calls_match_count / len(results) * 100:.2f}%\")"
   ]
  }
 ],
 "metadata": {
  "kernelspec": {
   "display_name": "mingxuan",
   "language": "python",
   "name": "python3"
  },
  "language_info": {
   "codemirror_mode": {
    "name": "ipython",
    "version": 3
   },
   "file_extension": ".py",
   "mimetype": "text/x-python",
   "name": "python",
   "nbconvert_exporter": "python",
   "pygments_lexer": "ipython3",
   "version": "3.12.11"
  }
 },
 "nbformat": 4,
 "nbformat_minor": 5
}
