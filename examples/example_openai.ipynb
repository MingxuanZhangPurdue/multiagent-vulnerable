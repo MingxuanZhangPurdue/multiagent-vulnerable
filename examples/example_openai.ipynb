{
 "cells": [
  {
   "cell_type": "code",
   "execution_count": 1,
   "id": "4d3520be",
   "metadata": {},
   "outputs": [
    {
     "data": {
      "text/plain": [
       "True"
      ]
     },
     "execution_count": 1,
     "metadata": {},
     "output_type": "execute_result"
    }
   ],
   "source": [
    "import sys\n",
    "import os\n",
    "\n",
    "from dotenv import load_dotenv\n",
    "\n",
    "from agents import Agent\n",
    "\n",
    "sys.path.append(os.path.join(os.path.dirname(os.getcwd()), \"src\"))\n",
    "\n",
    "from mav.MAS.pipeline import Pipeline\n",
    "\n",
    "from mav.benchmark import benchmark_suite_without_injections\n",
    "\n",
    "from mav.Tasks.load_task_suites import get_suite\n",
    "from mav.Tasks.utils._transform import convert_to_openai_function_tool\n",
    "\n",
    "from mav.MAS.framework import MultiAgentSystem\n",
    "\n",
    "load_dotenv()"
   ]
  },
  {
   "cell_type": "code",
   "execution_count": 2,
   "id": "612abab8",
   "metadata": {},
   "outputs": [
    {
     "ename": "TypeError",
     "evalue": "MultiAgentSystem.__init__() got an unexpected keyword argument 'mas'",
     "output_type": "error",
     "traceback": [
      "\u001b[31m---------------------------------------------------------------------------\u001b[39m",
      "\u001b[31mTypeError\u001b[39m                                 Traceback (most recent call last)",
      "\u001b[36mCell\u001b[39m\u001b[36m \u001b[39m\u001b[32mIn[2]\u001b[39m\u001b[32m, line 58\u001b[39m\n\u001b[32m     44\u001b[39m travel_agent = Agent(\n\u001b[32m     45\u001b[39m     name=\u001b[33m\"\u001b[39m\u001b[33mTravel Agent\u001b[39m\u001b[33m\"\u001b[39m,\n\u001b[32m     46\u001b[39m     instructions=\u001b[33m\"\"\"\u001b[39m\u001b[33mYou are a travel agent that assists users with their travel plans and bookings using available tools.\u001b[39m\u001b[33m\"\"\"\u001b[39m,\n\u001b[32m     47\u001b[39m     model=\u001b[33m\"\u001b[39m\u001b[33mgpt-4o\u001b[39m\u001b[33m\"\u001b[39m,\n\u001b[32m     48\u001b[39m     tools=travel_openai_tools,\n\u001b[32m     49\u001b[39m )\n\u001b[32m     51\u001b[39m triage_agent = Agent(\n\u001b[32m     52\u001b[39m     name=\u001b[33m\"\u001b[39m\u001b[33mManager Agent\u001b[39m\u001b[33m\"\u001b[39m,\n\u001b[32m     53\u001b[39m     instructions=\u001b[33m\"\"\"\u001b[39m\u001b[33mYou are a manager agent that triages tasks to other agents based on their expertise.\u001b[39m\u001b[33m\"\"\"\u001b[39m,                                                                                                                                                                                                                                                                                                                                                                                                                                                                                                                                                                                           \n\u001b[32m     54\u001b[39m     model=\u001b[33m\"\u001b[39m\u001b[33mgpt-4o\u001b[39m\u001b[33m\"\u001b[39m,\n\u001b[32m     55\u001b[39m     handoffs=[banking_agent, slack_agent, travel_agent],\n\u001b[32m     56\u001b[39m )\n\u001b[32m---> \u001b[39m\u001b[32m58\u001b[39m mas = \u001b[43mMultiAgentSystem\u001b[49m\u001b[43m(\u001b[49m\n\u001b[32m     59\u001b[39m \u001b[43m    \u001b[49m\u001b[43mmas\u001b[49m\u001b[43m=\u001b[49m\u001b[43mbanking_agent\u001b[49m\n\u001b[32m     60\u001b[39m \u001b[43m)\u001b[49m\n\u001b[32m     62\u001b[39m \u001b[38;5;66;03m# create a pipeline\u001b[39;00m\n\u001b[32m     63\u001b[39m pipeline = Pipeline(\n\u001b[32m     64\u001b[39m     mas=mas\n\u001b[32m     65\u001b[39m )\n",
      "\u001b[31mTypeError\u001b[39m: MultiAgentSystem.__init__() got an unexpected keyword argument 'mas'"
     ]
    }
   ],
   "source": [
    "# loading a task suite\n",
    "slack_task_suite = get_suite(\"slack\")\n",
    "banking_task_suite = get_suite(\"banking\")\n",
    "travel_task_suite = get_suite(\"travel\")\n",
    "\n",
    "# convert to openai function tools\n",
    "banking_openai_tools = []\n",
    "slack_openai_tools = []\n",
    "travel_openai_tools = []\n",
    "\n",
    "for tool in travel_task_suite.tools:\n",
    "    try:\n",
    "        travel_openai_tools.append(convert_to_openai_function_tool(tool))\n",
    "    except Exception as e:\n",
    "        print(f\"Error converting tool {tool.__name__}: {e}\")\n",
    "\n",
    "for tool in banking_task_suite.tools:\n",
    "    try:\n",
    "        banking_openai_tools.append(convert_to_openai_function_tool(tool))\n",
    "    except Exception as e:\n",
    "        print(f\"Error converting tool {tool.__name__}: {e}\")\n",
    "\n",
    "for tool in slack_task_suite.tools:\n",
    "    try:\n",
    "        slack_openai_tools.append(convert_to_openai_function_tool(tool))\n",
    "    except Exception as e:\n",
    "        print(f\"Error converting tool {tool.__name__}: {e}\")\n",
    "\n",
    "# create an multi-agent system\n",
    "banking_agent = Agent(\n",
    "    name=\"Banking Agent\",\n",
    "    instructions=\"\"\"You are an intelligent banking agent that handles user queries using available tools.\"\"\",\n",
    "    model=\"gpt-4o\",\n",
    "    tools=banking_openai_tools,\n",
    ")\n",
    "\n",
    "slack_agent = Agent(\n",
    "    name=\"Slack Agent\",\n",
    "    instructions=\"\"\"You are a Slack agent that interacts with users on Slack and handles their requests using available tools.\"\"\",\n",
    "    model=\"gpt-4o\",\n",
    "    tools=slack_openai_tools,\n",
    ")\n",
    "\n",
    "travel_agent = Agent(\n",
    "    name=\"Travel Agent\",\n",
    "    instructions=\"\"\"You are a travel agent that assists users with their travel plans and bookings using available tools.\"\"\",\n",
    "    model=\"gpt-4o\",\n",
    "    tools=travel_openai_tools,\n",
    ")\n",
    "\n",
    "triage_agent = Agent(\n",
    "    name=\"Manager Agent\",\n",
    "    instructions=\"\"\"You are a manager agent that triages tasks to other agents based on their expertise.\"\"\",                                                                                                                                                                                                                                                                                                                                                                                                                                                                                                                                                                                           \n",
    "    model=\"gpt-4o\",\n",
    "    handoffs=[banking_agent, slack_agent, travel_agent],\n",
    ")\n",
    "\n",
    "mas = MultiAgentSystem(\n",
    "    mas=banking_agent\n",
    ")\n",
    "\n",
    "# create a pipeline\n",
    "pipeline = Pipeline(\n",
    "    mas=mas\n",
    ")"
   ]
  },
  {
   "cell_type": "code",
   "execution_count": 3,
   "id": "709ab302",
   "metadata": {},
   "outputs": [
    {
     "data": {
      "text/plain": [
       "'Banking Agent'"
      ]
     },
     "execution_count": 3,
     "metadata": {},
     "output_type": "execute_result"
    }
   ],
   "source": [
    "banking_agent.name"
   ]
  },
  {
   "cell_type": "code",
   "execution_count": 3,
   "id": "fba3feef",
   "metadata": {},
   "outputs": [],
   "source": [
    "# run the benchmark\n",
    "results = await benchmark_suite_without_injections(\n",
    "    agent_pipeline=pipeline,\n",
    "    suite=banking_task_suite,\n",
    ")"
   ]
  },
  {
   "cell_type": "code",
   "execution_count": 11,
   "id": "aff08f71",
   "metadata": {},
   "outputs": [
    {
     "name": "stdout",
     "output_type": "stream",
     "text": [
      "Utility Percentage: 81.25%\n",
      "Function Calls Match Percentage: 18.75%\n"
     ]
    }
   ],
   "source": [
    "# get percentage of utilty been true and percentage of fucntion calls match true\n",
    "utility_count = sum(1 for result in results.values() if result[\"utility\"])\n",
    "function_calls_match_count = sum(\n",
    "    1 for result in results.values() if result[\"function_calls_match\"]\n",
    ")\n",
    "print(f\"Utility Percentage: {utility_count / len(results) * 100:.2f}%\")\n",
    "print(f\"Function Calls Match Percentage: {function_calls_match_count / len(results) * 100:.2f}%\")"
   ]
  },
  {
   "cell_type": "markdown",
   "id": "41caeb87",
   "metadata": {},
   "source": [
    "# Evaluation\n",
    "- utiltiy\n",
    "- ground_truth_function_calls\n",
    "- security\n",
    "\n",
    "# Experiments\n",
    "- Gemni\n",
    "- AutoGen\n",
    "- OpenAI Agents SDK"
   ]
  }
 ],
 "metadata": {
  "kernelspec": {
   "display_name": "mingxuan",
   "language": "python",
   "name": "python3"
  },
  "language_info": {
   "codemirror_mode": {
    "name": "ipython",
    "version": 3
   },
   "file_extension": ".py",
   "mimetype": "text/x-python",
   "name": "python",
   "nbconvert_exporter": "python",
   "pygments_lexer": "ipython3",
   "version": "3.12.11"
  }
 },
 "nbformat": 4,
 "nbformat_minor": 5
}
