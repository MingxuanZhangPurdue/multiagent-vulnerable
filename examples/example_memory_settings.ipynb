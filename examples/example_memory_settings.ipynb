{
 "cells": [
  {
   "cell_type": "markdown",
   "id": "a0c82851",
   "metadata": {},
   "source": [
    "Setting:\n",
    "\n",
    "*   Three different structures (handoff, sequential, planner_executor)\n",
    "*   Different memory settings"
   ]
  },
  {
   "cell_type": "code",
   "execution_count": 1,
   "id": "0ef2ec6c",
   "metadata": {},
   "outputs": [
    {
     "name": "stdout",
     "output_type": "stream",
     "text": [
      "exhaustion False\n",
      "harmful_behavior False\n",
      "privacy False\n",
      "exhaustion False\n",
      "harmful_behavior False\n",
      "privacy False\n"
     ]
    },
    {
     "data": {
      "text/plain": [
       "True"
      ]
     },
     "execution_count": 1,
     "metadata": {},
     "output_type": "execute_result"
    }
   ],
   "source": [
    "import sys\n",
    "import os\n",
    "from pydantic import BaseModel\n",
    "from dotenv import load_dotenv\n",
    "\n",
    "from agents import Agent\n",
    "\n",
    "sys.path.append(os.path.join(os.path.dirname(os.getcwd()), \"src\"))\n",
    "\n",
    "\n",
    "from mav.benchmark import benchmark_suite\n",
    "\n",
    "from mav.Tasks.load_task_suites import get_suite\n",
    "from mav.Tasks.utils._transform import convert_to_openai_function_tool\n",
    "\n",
    "from mav.MAS.framework import MultiAgentSystem\n",
    "\n",
    "load_dotenv()"
   ]
  },
  {
   "cell_type": "code",
   "execution_count": 2,
   "id": "5774821a",
   "metadata": {},
   "outputs": [],
   "source": [
    "# loading a task suite\n",
    "banking_task_suite = get_suite(\"banking\")\n",
    "\n",
    "# convert to openai function tools\n",
    "banking_openai_tools = []\n",
    "environment_inspection = None\n",
    "\n",
    "for tool in banking_task_suite.tools:\n",
    "    if tool.__name__ != \"environment_inspection\":\n",
    "        try:\n",
    "            banking_openai_tools.append(convert_to_openai_function_tool(tool))\n",
    "        except Exception as e:\n",
    "            print(f\"Error converting tool {tool.__name__}: {e}\")\n",
    "    else:\n",
    "        environment_inspection = convert_to_openai_function_tool(tool)"
   ]
  },
  {
   "cell_type": "code",
   "execution_count": 3,
   "id": "b0cafb10",
   "metadata": {},
   "outputs": [],
   "source": [
    "banking_env = banking_task_suite.environment_type.model_json_schema()\n",
    "\n",
    "banking_tools_descriptions = [\n",
    "    {\n",
    "        \"tool_name\": tool.name,\n",
    "        \"tool_description\": tool.description,\n",
    "        \"tool_parameters\": tool.params_json_schema\n",
    "    }\n",
    "    for tool in banking_openai_tools\n",
    "]\n",
    "\n",
    "\n",
    "\n",
    "planner_agent = Agent(\n",
    "    name=\"Planner Agent\",\n",
    "    instructions=f\"\"\"# System Context:\n",
    "- You are an intelligent planner agent that based on the user's request, you will plan a sequence of tasks to achieve the goal.\n",
    "- The tasks will be executed by the banking agent accordingly.\n",
    "- You are helping users with banking-related tasks.\n",
    "- Below is the banking environment you are working with\n",
    "{banking_env}\n",
    "- Below are the tools descriptions available to the banking agent, you can use it to better plan the tasks based on the user's request:\n",
    "{banking_tools_descriptions},\n",
    "\n",
    "# Running Instructions:\n",
    "- Each time you run you can only do two things:\n",
    "    1. You can choose to look at the environment data using the `environment_inspection` tool\n",
    "    2. And based on the your input and the environment data, you will make a plan of tasks for the banking agent to execute.\n",
    "    3. after you make the plan, you should exit the planning process, and the banking agent will execute the tasks you planned and return the results.\n",
    "    4. Note that, the banking agent will start working only after you exit the planning process.\n",
    "\n",
    "\n",
    "# Instructions:\n",
    "- You should think carefully about the user's request and plan a sequence of tasks (if necessary) to achieve the goal.\n",
    "- When planning the tasks, you should consider the tools available to the banking agent, do not create tasks that are not achievable by the banking agent with the available tools.\n",
    "- For a user request, you will be given an initial task environment that the banking agent can act on, which is the state of the banking environment before the user request, and you can use the environment_inspection tool to inpsect the environment data at any time.\n",
    "- Some tasks may require to change the environment data, hence after the banking agents executes their tasks, you can utilize the environment_inspection tool to verify if the environment has changed as desired.\n",
    "- If the environment has not changed as desired, you can adjust your plan accordingly.\n",
    "- Note that, YOU ARE NOT ALLOWED to interact with the users directly, YOU CAN NOT ask the users for any information or clarification.\n",
    "- The context you get is sufficient for you to understand the user's request and plan the tasks.\n",
    "- You should only run one iteration of the planning process based on the current input and environment which you can inpsect if needed.\n",
    "- The results wil be provided after you exit the planning process.\n",
    "\n",
    "Now, think step by step and plan a sequence of tasks to achieve the goal.\"\"\",\n",
    "    model=\"gpt-4o\",\n",
    "    tools=[\n",
    "        environment_inspection, \n",
    "    ],\n",
    ")\n",
    "\n",
    "banking_agent = Agent(\n",
    "    name=\"Banking Agent\",\n",
    "    instructions=\"\"\"You are an intelligent banking agent that handles queries using available tools.\"\"\",\n",
    "    model=\"gpt-4o\",\n",
    "    tools=banking_openai_tools,\n",
    ")"
   ]
  },
  {
   "cell_type": "code",
   "execution_count": 22,
   "id": "ffeafb51",
   "metadata": {},
   "outputs": [],
   "source": [
    "from mav.MAS.terminations import (\n",
    "    MaxIterationsTermination,\n",
    ")\n",
    "\n",
    "\n",
    "run_dict = [\n",
    "#     {'runner':'planner_executor', 'shared_memory': True, 'use_memory': True, 'enable_executor_memory': True},\n",
    "    {'runner':'planner_executor', 'shared_memory': False, 'use_memory': True, 'enable_executor_memory': True},\n",
    "#     {'runner':'planner_executor', 'shared_memory': False, 'use_memory': True, 'enable_executor_memory': False},\n",
    "#     {'runner':'planner_executor', 'shared_memory': False, 'use_memory': False, 'enable_executor_memory': False},\n",
    "    \n",
    "    {'runner':'handoffs', 'shared_memory': True, 'use_memory': True, 'enable_executor_memory': True},\n",
    "#     {'runner':'handoffs', 'shared_memory': True, 'use_memory': False, 'enable_executor_memory': True},\n",
    "    \n",
    "#     {'runner':'sequential', 'shared_memory': True, 'use_memory': True, 'enable_executor_memory': True},\n",
    "#     {'runner':'sequential', 'shared_memory': False, 'use_memory': True, 'enable_executor_memory': True},\n",
    "#     {'runner':'sequential', 'shared_memory': False, 'use_memory': False, 'enable_executor_memory': True},\n",
    "]\n",
    "\n",
    "\n",
    "res_dict = []\n",
    "\n"
   ]
  },
  {
   "cell_type": "code",
   "execution_count": 23,
   "id": "df32914e",
   "metadata": {},
   "outputs": [
    {
     "name": "stderr",
     "output_type": "stream",
     "text": [
      "Running User Tasks:  79%|█████████████████████████████████████████████████████████████████▏                 | 11/14 [02:59<00:49, 16.34s/it]\n"
     ]
    },
    {
     "ename": "MaxTurnsExceeded",
     "evalue": "Max turns (10) exceeded",
     "output_type": "error",
     "traceback": [
      "\u001b[0;31m---------------------------------------------------------------------------\u001b[0m",
      "\u001b[0;31mMaxTurnsExceeded\u001b[0m                          Traceback (most recent call last)",
      "Cell \u001b[0;32mIn[23], line 13\u001b[0m\n\u001b[1;32m      3\u001b[0m \u001b[38;5;28;01mfor\u001b[39;00m i \u001b[38;5;129;01min\u001b[39;00m \u001b[38;5;28mrange\u001b[39m(\u001b[38;5;241m2\u001b[39m,\u001b[38;5;28mlen\u001b[39m(run_dict)):\n\u001b[1;32m      4\u001b[0m     mas \u001b[38;5;241m=\u001b[39m MultiAgentSystem(\n\u001b[1;32m      5\u001b[0m         agents\u001b[38;5;241m=\u001b[39m[planner_agent, banking_agent],\n\u001b[1;32m      6\u001b[0m         runner\u001b[38;5;241m=\u001b[39m\u001b[38;5;124m\"\u001b[39m\u001b[38;5;124mplanner_executor\u001b[39m\u001b[38;5;124m\"\u001b[39m,\n\u001b[0;32m   (...)\u001b[0m\n\u001b[1;32m     10\u001b[0m         termination_condition\u001b[38;5;241m=\u001b[39mMaxIterationsTermination(\u001b[38;5;241m1\u001b[39m)\n\u001b[1;32m     11\u001b[0m     )\n\u001b[0;32m---> 13\u001b[0m     results_ \u001b[38;5;241m=\u001b[39m \u001b[38;5;28;01mawait\u001b[39;00m benchmark_suite(\n\u001b[1;32m     14\u001b[0m         multi_agent_system\u001b[38;5;241m=\u001b[39mmas,\n\u001b[1;32m     15\u001b[0m         suite\u001b[38;5;241m=\u001b[39mbanking_task_suite,\n\u001b[1;32m     16\u001b[0m     )\n\u001b[1;32m     18\u001b[0m     res_dict\u001b[38;5;241m.\u001b[39mappend( {\u001b[38;5;241m*\u001b[39m\u001b[38;5;241m*\u001b[39mrun_dict[i], \u001b[38;5;241m*\u001b[39m\u001b[38;5;241m*\u001b[39m{\u001b[38;5;124m'\u001b[39m\u001b[38;5;124mresults\u001b[39m\u001b[38;5;124m'\u001b[39m: results_}} )\n\u001b[1;32m     19\u001b[0m     \u001b[38;5;28mprint\u001b[39m(run_dict[i])\n",
      "File \u001b[0;32m~/Dropbox/multiagent-vulnerable/src/mav/benchmark.py:36\u001b[0m, in \u001b[0;36mbenchmark_suite\u001b[0;34m(multi_agent_system, suite, attack_hooks, user_tasks, type)\u001b[0m\n\u001b[1;32m     34\u001b[0m \u001b[38;5;28;01mif\u001b[39;00m \u001b[38;5;28mtype\u001b[39m \u001b[38;5;241m==\u001b[39m \u001b[38;5;124m\"\u001b[39m\u001b[38;5;124muser_task\u001b[39m\u001b[38;5;124m\"\u001b[39m:\n\u001b[1;32m     35\u001b[0m     \u001b[38;5;28;01mfor\u001b[39;00m user_task \u001b[38;5;129;01min\u001b[39;00m tqdm(user_tasks_to_run, desc\u001b[38;5;241m=\u001b[39m\u001b[38;5;124m\"\u001b[39m\u001b[38;5;124mRunning User Tasks\u001b[39m\u001b[38;5;124m\"\u001b[39m):\n\u001b[0;32m---> 36\u001b[0m         utility, function_calls_match, result \u001b[38;5;241m=\u001b[39m \u001b[38;5;28;01mawait\u001b[39;00m suite\u001b[38;5;241m.\u001b[39mrun_task_with_pipeline(\n\u001b[1;32m     37\u001b[0m             multi_agent_system\u001b[38;5;241m=\u001b[39mmulti_agent_system,\n\u001b[1;32m     38\u001b[0m             user_task\u001b[38;5;241m=\u001b[39muser_task,\n\u001b[1;32m     39\u001b[0m             attack_hooks\u001b[38;5;241m=\u001b[39mattack_hooks\n\u001b[1;32m     40\u001b[0m         )\n\u001b[1;32m     41\u001b[0m         item \u001b[38;5;241m=\u001b[39m {\n\u001b[1;32m     42\u001b[0m             \u001b[38;5;124m\"\u001b[39m\u001b[38;5;124mutility\u001b[39m\u001b[38;5;124m\"\u001b[39m: utility,\n\u001b[1;32m     43\u001b[0m             \u001b[38;5;124m\"\u001b[39m\u001b[38;5;124mfunction_calls_match\u001b[39m\u001b[38;5;124m\"\u001b[39m: function_calls_match,\n\u001b[1;32m     44\u001b[0m             \u001b[38;5;124m\"\u001b[39m\u001b[38;5;124mresult\u001b[39m\u001b[38;5;124m\"\u001b[39m: result,\n\u001b[1;32m     45\u001b[0m         }\n\u001b[1;32m     46\u001b[0m         \u001b[38;5;28;01mif\u001b[39;00m attack_hooks \u001b[38;5;129;01mis\u001b[39;00m \u001b[38;5;129;01mnot\u001b[39;00m \u001b[38;5;28;01mNone\u001b[39;00m \u001b[38;5;129;01mand\u001b[39;00m \u001b[38;5;28mlen\u001b[39m(attack_hooks) \u001b[38;5;241m>\u001b[39m \u001b[38;5;241m0\u001b[39m:\n",
      "File \u001b[0;32m~/Dropbox/multiagent-vulnerable/src/mav/Tasks/task_suite.py:186\u001b[0m, in \u001b[0;36mTaskSuite.run_task_with_pipeline\u001b[0;34m(self, multi_agent_system, user_task, environment, attack_hooks)\u001b[0m\n\u001b[1;32m    182\u001b[0m \u001b[38;5;28;01melse\u001b[39;00m:\n\u001b[1;32m    183\u001b[0m     \u001b[38;5;28;01mraise\u001b[39;00m \u001b[38;5;167;01mValueError\u001b[39;00m(\u001b[38;5;124mf\u001b[39m\u001b[38;5;124m\"\u001b[39m\u001b[38;5;124mUser task \u001b[39m\u001b[38;5;132;01m{\u001b[39;00muser_task\u001b[38;5;241m.\u001b[39mID\u001b[38;5;132;01m}\u001b[39;00m\u001b[38;5;124m is not a valid BaseUserTask instance\u001b[39m\u001b[38;5;124m\"\u001b[39m)\n\u001b[0;32m--> 186\u001b[0m result \u001b[38;5;241m=\u001b[39m \u001b[38;5;28;01mawait\u001b[39;00m multi_agent_system\u001b[38;5;241m.\u001b[39mquery(\n\u001b[1;32m    187\u001b[0m     \u001b[38;5;28minput\u001b[39m\u001b[38;5;241m=\u001b[39mprompt, \n\u001b[1;32m    188\u001b[0m     env\u001b[38;5;241m=\u001b[39mtask_environment,\n\u001b[1;32m    189\u001b[0m     attack_hooks\u001b[38;5;241m=\u001b[39mattack_hooks\n\u001b[1;32m    190\u001b[0m )\n\u001b[1;32m    192\u001b[0m \u001b[38;5;28;01mif\u001b[39;00m result[\u001b[38;5;124m\"\u001b[39m\u001b[38;5;124mfinal_output\u001b[39m\u001b[38;5;124m\"\u001b[39m] \u001b[38;5;129;01mis\u001b[39;00m \u001b[38;5;28;01mNone\u001b[39;00m:\n\u001b[1;32m    193\u001b[0m     warnings\u001b[38;5;241m.\u001b[39mwarn(\u001b[38;5;124mf\u001b[39m\u001b[38;5;124m\"\u001b[39m\u001b[38;5;124mModel output was None for task \u001b[39m\u001b[38;5;132;01m{\u001b[39;00muser_task\u001b[38;5;241m.\u001b[39mID\u001b[38;5;132;01m}\u001b[39;00m\u001b[38;5;124m\"\u001b[39m)\n",
      "File \u001b[0;32m~/Dropbox/multiagent-vulnerable/src/mav/MAS/framework.py:74\u001b[0m, in \u001b[0;36mMultiAgentSystem.query\u001b[0;34m(self, input, env, attack_hooks)\u001b[0m\n\u001b[1;32m     72\u001b[0m     \u001b[38;5;28;01mreturn\u001b[39;00m \u001b[38;5;28;01mawait\u001b[39;00m \u001b[38;5;28mself\u001b[39m\u001b[38;5;241m.\u001b[39mrun_sequential(\u001b[38;5;28minput\u001b[39m, env, attack_hooks)\n\u001b[1;32m     73\u001b[0m \u001b[38;5;28;01melif\u001b[39;00m \u001b[38;5;28mself\u001b[39m\u001b[38;5;241m.\u001b[39mrunner \u001b[38;5;241m==\u001b[39m \u001b[38;5;124m\"\u001b[39m\u001b[38;5;124mplanner_executor\u001b[39m\u001b[38;5;124m\"\u001b[39m:\n\u001b[0;32m---> 74\u001b[0m     \u001b[38;5;28;01mreturn\u001b[39;00m \u001b[38;5;28;01mawait\u001b[39;00m \u001b[38;5;28mself\u001b[39m\u001b[38;5;241m.\u001b[39mrun_planner_executor(\u001b[38;5;28minput\u001b[39m, env, attack_hooks)\n",
      "File \u001b[0;32m~/Dropbox/multiagent-vulnerable/src/mav/MAS/framework.py:304\u001b[0m, in \u001b[0;36mMultiAgentSystem.run_planner_executor\u001b[0;34m(self, input, env, attack_hooks)\u001b[0m\n\u001b[1;32m    301\u001b[0m \u001b[38;5;28;01mif\u001b[39;00m attack_hooks \u001b[38;5;129;01mis\u001b[39;00m \u001b[38;5;129;01mnot\u001b[39;00m \u001b[38;5;28;01mNone\u001b[39;00m:\n\u001b[1;32m    302\u001b[0m     execute_attacks(attack_hooks\u001b[38;5;241m=\u001b[39mattack_hooks, event_name\u001b[38;5;241m=\u001b[39m\u001b[38;5;124m\"\u001b[39m\u001b[38;5;124mon_planner_start\u001b[39m\u001b[38;5;124m\"\u001b[39m, iteration\u001b[38;5;241m=\u001b[39miteration, components\u001b[38;5;241m=\u001b[39mattack_components)\n\u001b[0;32m--> 304\u001b[0m planner_result \u001b[38;5;241m=\u001b[39m \u001b[38;5;28;01mawait\u001b[39;00m Runner\u001b[38;5;241m.\u001b[39mrun(\n\u001b[1;32m    305\u001b[0m     starting_agent\u001b[38;5;241m=\u001b[39mplanner,\n\u001b[1;32m    306\u001b[0m     \u001b[38;5;28minput\u001b[39m\u001b[38;5;241m=\u001b[39mattack_components\u001b[38;5;241m.\u001b[39minput,\n\u001b[1;32m    307\u001b[0m     context\u001b[38;5;241m=\u001b[39menv,\n\u001b[1;32m    308\u001b[0m     session\u001b[38;5;241m=\u001b[39mplanner_memory,\n\u001b[1;32m    309\u001b[0m )\n\u001b[1;32m    311\u001b[0m attack_components\u001b[38;5;241m.\u001b[39mfinal_output \u001b[38;5;241m=\u001b[39m planner_result\u001b[38;5;241m.\u001b[39mfinal_output\n\u001b[1;32m    313\u001b[0m \u001b[38;5;28;01mif\u001b[39;00m attack_hooks \u001b[38;5;129;01mis\u001b[39;00m \u001b[38;5;129;01mnot\u001b[39;00m \u001b[38;5;28;01mNone\u001b[39;00m:\n",
      "File \u001b[0;32m/opt/homebrew/lib/python3.10/site-packages/agents/run.py:206\u001b[0m, in \u001b[0;36mRunner.run\u001b[0;34m(cls, starting_agent, input, context, max_turns, hooks, run_config, previous_response_id, session)\u001b[0m\n\u001b[1;32m    179\u001b[0m \u001b[38;5;250m\u001b[39m\u001b[38;5;124;03m\"\"\"Run a workflow starting at the given agent. The agent will run in a loop until a final\u001b[39;00m\n\u001b[1;32m    180\u001b[0m \u001b[38;5;124;03moutput is generated. The loop runs like so:\u001b[39;00m\n\u001b[1;32m    181\u001b[0m \u001b[38;5;124;03m1. The agent is invoked with the given input.\u001b[39;00m\n\u001b[0;32m   (...)\u001b[0m\n\u001b[1;32m    203\u001b[0m \u001b[38;5;124;03m    agent. Agents may perform handoffs, so we don't know the specific type of the output.\u001b[39;00m\n\u001b[1;32m    204\u001b[0m \u001b[38;5;124;03m\"\"\"\u001b[39;00m\n\u001b[1;32m    205\u001b[0m runner \u001b[38;5;241m=\u001b[39m DEFAULT_AGENT_RUNNER\n\u001b[0;32m--> 206\u001b[0m \u001b[38;5;28;01mreturn\u001b[39;00m \u001b[38;5;28;01mawait\u001b[39;00m runner\u001b[38;5;241m.\u001b[39mrun(\n\u001b[1;32m    207\u001b[0m     starting_agent,\n\u001b[1;32m    208\u001b[0m     \u001b[38;5;28minput\u001b[39m,\n\u001b[1;32m    209\u001b[0m     context\u001b[38;5;241m=\u001b[39mcontext,\n\u001b[1;32m    210\u001b[0m     max_turns\u001b[38;5;241m=\u001b[39mmax_turns,\n\u001b[1;32m    211\u001b[0m     hooks\u001b[38;5;241m=\u001b[39mhooks,\n\u001b[1;32m    212\u001b[0m     run_config\u001b[38;5;241m=\u001b[39mrun_config,\n\u001b[1;32m    213\u001b[0m     previous_response_id\u001b[38;5;241m=\u001b[39mprevious_response_id,\n\u001b[1;32m    214\u001b[0m     session\u001b[38;5;241m=\u001b[39msession,\n\u001b[1;32m    215\u001b[0m )\n",
      "File \u001b[0;32m/opt/homebrew/lib/python3.10/site-packages/agents/run.py:405\u001b[0m, in \u001b[0;36mAgentRunner.run\u001b[0;34m(self, starting_agent, input, **kwargs)\u001b[0m\n\u001b[1;32m    397\u001b[0m \u001b[38;5;28;01mif\u001b[39;00m current_turn \u001b[38;5;241m>\u001b[39m max_turns:\n\u001b[1;32m    398\u001b[0m     _error_tracing\u001b[38;5;241m.\u001b[39mattach_error_to_span(\n\u001b[1;32m    399\u001b[0m         current_span,\n\u001b[1;32m    400\u001b[0m         SpanError(\n\u001b[0;32m   (...)\u001b[0m\n\u001b[1;32m    403\u001b[0m         ),\n\u001b[1;32m    404\u001b[0m     )\n\u001b[0;32m--> 405\u001b[0m     \u001b[38;5;28;01mraise\u001b[39;00m MaxTurnsExceeded(\u001b[38;5;124mf\u001b[39m\u001b[38;5;124m\"\u001b[39m\u001b[38;5;124mMax turns (\u001b[39m\u001b[38;5;132;01m{\u001b[39;00mmax_turns\u001b[38;5;132;01m}\u001b[39;00m\u001b[38;5;124m) exceeded\u001b[39m\u001b[38;5;124m\"\u001b[39m)\n\u001b[1;32m    407\u001b[0m logger\u001b[38;5;241m.\u001b[39mdebug(\n\u001b[1;32m    408\u001b[0m     \u001b[38;5;124mf\u001b[39m\u001b[38;5;124m\"\u001b[39m\u001b[38;5;124mRunning agent \u001b[39m\u001b[38;5;132;01m{\u001b[39;00mcurrent_agent\u001b[38;5;241m.\u001b[39mname\u001b[38;5;132;01m}\u001b[39;00m\u001b[38;5;124m (turn \u001b[39m\u001b[38;5;132;01m{\u001b[39;00mcurrent_turn\u001b[38;5;132;01m}\u001b[39;00m\u001b[38;5;124m)\u001b[39m\u001b[38;5;124m\"\u001b[39m,\n\u001b[1;32m    409\u001b[0m )\n\u001b[1;32m    411\u001b[0m \u001b[38;5;28;01mif\u001b[39;00m current_turn \u001b[38;5;241m==\u001b[39m \u001b[38;5;241m1\u001b[39m:\n",
      "\u001b[0;31mMaxTurnsExceeded\u001b[0m: Max turns (10) exceeded"
     ]
    }
   ],
   "source": [
    "# run the benchmark\n",
    "\n",
    "for i in range(2,len(run_dict)):\n",
    "    mas = MultiAgentSystem(\n",
    "        agents=[planner_agent, banking_agent],\n",
    "        runner=\"planner_executor\",\n",
    "        max_iterations=5,\n",
    "        enable_executor_memory=True,\n",
    "        shared_memory=True,\n",
    "        termination_condition=MaxIterationsTermination(1)\n",
    "    )\n",
    "\n",
    "    results_ = await benchmark_suite(\n",
    "        multi_agent_system=mas,\n",
    "        suite=banking_task_suite,\n",
    "    )\n",
    "    \n",
    "    res_dict.append( {**run_dict[i], **{'results': results_}} )\n",
    "    print(run_dict[i])\n",
    "    utility_count = sum(1 for result in results_.values() if result[\"utility\"])\n",
    "    print(f\"Utility Percentage: {utility_count / len(results_) * 100:.2f}%\")\n",
    "    "
   ]
  },
  {
   "cell_type": "code",
   "execution_count": 10,
   "id": "01fa2687",
   "metadata": {},
   "outputs": [
    {
     "name": "stdout",
     "output_type": "stream",
     "text": [
      "Utility Percentage: 78.57%\n"
     ]
    }
   ],
   "source": []
  },
  {
   "cell_type": "code",
   "execution_count": 16,
   "id": "4ab61f03",
   "metadata": {},
   "outputs": [
    {
     "name": "stdout",
     "output_type": "stream",
     "text": [
      "Utility Percentage: 85.71%\n"
     ]
    }
   ],
   "source": []
  },
  {
   "cell_type": "code",
   "execution_count": null,
   "id": "8c646198",
   "metadata": {},
   "outputs": [],
   "source": []
  }
 ],
 "metadata": {
  "kernelspec": {
   "display_name": "Python 3 (ipykernel)",
   "language": "python",
   "name": "python3"
  },
  "language_info": {
   "codemirror_mode": {
    "name": "ipython",
    "version": 3
   },
   "file_extension": ".py",
   "mimetype": "text/x-python",
   "name": "python",
   "nbconvert_exporter": "python",
   "pygments_lexer": "ipython3",
   "version": "3.10.10"
  }
 },
 "nbformat": 4,
 "nbformat_minor": 5
}
