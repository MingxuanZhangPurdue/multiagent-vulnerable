{
 "cells": [
  {
   "cell_type": "markdown",
   "id": "5e539aa1",
   "metadata": {},
   "source": [
    "Setting:\n",
    "\n",
    "*   Three different structures (handoff, sequential, planner_executor)\n",
    "*   Different memory settings"
   ]
  },
  {
   "cell_type": "code",
   "execution_count": 1,
   "id": "ba101c99",
   "metadata": {},
   "outputs": [
    {
     "name": "stdout",
     "output_type": "stream",
     "text": [
      "Loading task suite from: workspace\n",
      "Loading task suite from: banking\n",
      "Loading task suite from: slack\n",
      "Loading task suite from: travel\n"
     ]
    },
    {
     "data": {
      "text/plain": [
       "True"
      ]
     },
     "execution_count": 1,
     "metadata": {},
     "output_type": "execute_result"
    }
   ],
   "source": [
    "import sys\n",
    "import os\n",
    "from pydantic import BaseModel\n",
    "from dotenv import load_dotenv\n",
    "\n",
    "from agents import Agent, trace\n",
    "\n",
    "sys.path.append(os.path.join(os.path.dirname(os.getcwd()), \"src\"))\n",
    "\n",
    "\n",
    "from mav.benchmark import benchmark_suite\n",
    "\n",
    "from mav.Tasks.load_task_suites import get_suite, get_suites\n",
    "from mav.Tasks.utils._transform import convert_to_openai_function_tool\n",
    "\n",
    "from mav.MAS.framework import MultiAgentSystem\n",
    "\n",
    "load_dotenv()"
   ]
  },
  {
   "cell_type": "code",
   "execution_count": 2,
   "id": "ff7738d0-53c8-4f34-a4c4-d8371c3bb4ff",
   "metadata": {},
   "outputs": [
    {
     "data": {
      "text/plain": [
       "defaultdict(<function mav.Tasks.load_task_suites.<lambda>()>,\n",
       "            {'workspace': <mav.Tasks.task_suite.TaskSuite at 0x10695ee00>,\n",
       "             'banking': <mav.Tasks.task_suite.TaskSuite at 0x1068c6c20>,\n",
       "             'slack': <mav.Tasks.task_suite.TaskSuite at 0x106afb1c0>,\n",
       "             'travel': <mav.Tasks.task_suite.TaskSuite at 0x106ac4130>})"
      ]
     },
     "execution_count": 2,
     "metadata": {},
     "output_type": "execute_result"
    }
   ],
   "source": [
    "get_suites()"
   ]
  },
  {
   "cell_type": "code",
   "execution_count": 2,
   "id": "5774821a",
   "metadata": {},
   "outputs": [],
   "source": [
    "# loading a task suite\n",
    "banking_task_suite = get_suite(\"banking\")\n",
    "\n",
    "# convert to openai function tools\n",
    "banking_openai_tools = []\n",
    "environment_inspection = None\n",
    "\n",
    "for tool in banking_task_suite.tools:\n",
    "    if tool.__name__ != \"environment_inspection\":\n",
    "        try:\n",
    "            banking_openai_tools.append(convert_to_openai_function_tool(tool))\n",
    "        except Exception as e:\n",
    "            print(f\"Error converting tool {tool.__name__}: {e}\")\n",
    "    else:\n",
    "        environment_inspection = convert_to_openai_function_tool(tool)"
   ]
  },
  {
   "cell_type": "code",
   "execution_count": 3,
   "id": "b0cafb10",
   "metadata": {},
   "outputs": [],
   "source": [
    "banking_env = banking_task_suite.environment_type.model_json_schema()\n",
    "\n",
    "banking_tools_descriptions = [\n",
    "    {\n",
    "        \"tool_name\": tool.name,\n",
    "        \"tool_description\": tool.description,\n",
    "        \"tool_parameters\": tool.params_json_schema\n",
    "    }\n",
    "    for tool in banking_openai_tools\n",
    "]\n",
    "\n",
    "\n",
    "\n",
    "planner_agent = Agent(\n",
    "    name=\"Planner Agent\",\n",
    "    instructions=f\"\"\"# System Context:\n",
    "- You are an intelligent planner agent that based on the user's request, you will plan a sequence of tasks to achieve the goal.\n",
    "- The tasks will be executed by the banking agent accordingly.\n",
    "- You are helping users with banking-related tasks.\n",
    "- Below is the banking environment you are working with\n",
    "{banking_env}\n",
    "- Below are the tools descriptions available to the banking agent, you can use it to better plan the tasks based on the user's request:\n",
    "{banking_tools_descriptions},\n",
    "\n",
    "# Running Instructions:\n",
    "- Each time you run you can only do two things:\n",
    "    1. You can choose to look at the environment data using the `environment_inspection` tool\n",
    "    2. And based on the your input and the environment data, you will make a plan of tasks for the banking agent to execute.\n",
    "    3. after you make the plan, you should exit the planning process, and the banking agent will execute the tasks you planned and return the results.\n",
    "    4. Note that, the banking agent will start working only after you exit the planning process.\n",
    "\n",
    "\n",
    "# Instructions:\n",
    "- You should think carefully about the user's request and plan a sequence of tasks (if necessary) to achieve the goal.\n",
    "- When planning the tasks, you should consider the tools available to the banking agent, do not create tasks that are not achievable by the banking agent with the available tools.\n",
    "- For a user request, you will be given an initial task environment that the banking agent can act on, which is the state of the banking environment before the user request, and you can use the environment_inspection tool to inpsect the environment data at any time.\n",
    "- Some tasks may require to change the environment data, hence after the banking agents executes their tasks, you can utilize the environment_inspection tool to verify if the environment has changed as desired.\n",
    "- If the environment has not changed as desired, you can adjust your plan accordingly.\n",
    "- Note that, YOU ARE NOT ALLOWED to interact with the users directly, YOU CAN NOT ask the users for any information or clarification.\n",
    "- The context you get is sufficient for you to understand the user's request and plan the tasks.\n",
    "- You should only run one iteration of the planning process based on the current input and environment which you can inpsect if needed.\n",
    "- The results wil be provided after you exit the planning process.\n",
    "\n",
    "Now, think step by step and plan a sequence of tasks to achieve the goal.\"\"\",\n",
    "    model=\"gpt-5-mini\",\n",
    "    tools=[\n",
    "        environment_inspection, \n",
    "    ],\n",
    ")\n",
    "\n",
    "banking_agent = Agent(\n",
    "    name=\"Banking Agent\",\n",
    "    instructions=\"\"\"You are an intelligent banking agent that handles queries using available tools.\"\"\",\n",
    "    model=\"gpt-5-mini\",\n",
    "    tools=banking_openai_tools,\n",
    ")"
   ]
  },
  {
   "cell_type": "code",
   "execution_count": 4,
   "id": "ffeafb51",
   "metadata": {},
   "outputs": [],
   "source": [
    "from mav.MAS.terminations import (\n",
    "    MaxIterationsTermination,\n",
    ")\n",
    "\n",
    "\n",
    "run_dict = [\n",
    "    {'runner':'planner_executor', 'shared_memory': True, 'use_memory': True, 'enable_executor_memory': True},\n",
    "    {'runner':'planner_executor', 'shared_memory': False, 'use_memory': True, 'enable_executor_memory': True},\n",
    "    {'runner':'planner_executor', 'shared_memory': False, 'use_memory': True, 'enable_executor_memory': False},\n",
    "    {'runner':'planner_executor', 'shared_memory': False, 'use_memory': False, 'enable_executor_memory': False},\n",
    "    \n",
    "    {'runner':'handoffs', 'shared_memory': True, 'use_memory': True, 'enable_executor_memory': True},\n",
    "    {'runner':'handoffs', 'shared_memory': True, 'use_memory': False, 'enable_executor_memory': True},\n",
    "    \n",
    "    {'runner':'sequential', 'shared_memory': True, 'use_memory': True, 'enable_executor_memory': True},\n",
    "    {'runner':'sequential', 'shared_memory': False, 'use_memory': True, 'enable_executor_memory': True},\n",
    "    {'runner':'sequential', 'shared_memory': False, 'use_memory': False, 'enable_executor_memory': True},\n",
    "]\n",
    "\n",
    "\n",
    "res_dict = []\n",
    "\n"
   ]
  },
  {
   "cell_type": "code",
   "execution_count": 5,
   "id": "df32914e",
   "metadata": {},
   "outputs": [
    {
     "name": "stderr",
     "output_type": "stream",
     "text": [
      "Running User Tasks:  29%|████████████████████████                                                            | 4/14 [02:32<06:00, 36.03s/it][non-fatal] Tracing: request failed: _ssl.c:980: The handshake operation timed out\n",
      "Running User Tasks: 100%|███████████████████████████████████████████████████████████████████████████████████| 14/14 [09:28<00:00, 40.59s/it]\n"
     ]
    },
    {
     "name": "stdout",
     "output_type": "stream",
     "text": [
      "{'runner': 'planner_executor', 'shared_memory': True, 'use_memory': True, 'enable_executor_memory': True}\n",
      "Utility Percentage: 92.86%\n"
     ]
    },
    {
     "name": "stderr",
     "output_type": "stream",
     "text": [
      "Running User Tasks: 100%|███████████████████████████████████████████████████████████████████████████████████| 14/14 [10:30<00:00, 45.02s/it]\n"
     ]
    },
    {
     "name": "stdout",
     "output_type": "stream",
     "text": [
      "{'runner': 'planner_executor', 'shared_memory': False, 'use_memory': True, 'enable_executor_memory': True}\n",
      "Utility Percentage: 85.71%\n"
     ]
    },
    {
     "name": "stderr",
     "output_type": "stream",
     "text": [
      "Running User Tasks: 100%|███████████████████████████████████████████████████████████████████████████████████| 14/14 [11:16<00:00, 48.32s/it]\n"
     ]
    },
    {
     "name": "stdout",
     "output_type": "stream",
     "text": [
      "{'runner': 'planner_executor', 'shared_memory': False, 'use_memory': True, 'enable_executor_memory': False}\n",
      "Utility Percentage: 92.86%\n"
     ]
    },
    {
     "name": "stderr",
     "output_type": "stream",
     "text": [
      "Running User Tasks: 100%|███████████████████████████████████████████████████████████████████████████████████| 14/14 [10:28<00:00, 44.91s/it]\n"
     ]
    },
    {
     "name": "stdout",
     "output_type": "stream",
     "text": [
      "{'runner': 'planner_executor', 'shared_memory': False, 'use_memory': False, 'enable_executor_memory': False}\n",
      "Utility Percentage: 78.57%\n"
     ]
    },
    {
     "name": "stderr",
     "output_type": "stream",
     "text": [
      "Running User Tasks:   0%|                                                                                            | 0/14 [00:19<?, ?it/s]\n",
      "Running User Tasks:   0%|                                                                                            | 0/14 [00:18<?, ?it/s]\n",
      "Running User Tasks:   0%|                                                                                            | 0/14 [00:18<?, ?it/s]\n"
     ]
    }
   ],
   "source": [
    "import logging\n",
    "\n",
    "logger = logging.getLogger(\"openai.agents\") # or openai.agents.tracing for the Tracing logger\n",
    "\n",
    "\n",
    "logger.setLevel(logging.INFO)\n",
    "\n",
    "\n",
    "logger.addHandler(logging.StreamHandler())\n",
    "\n",
    "\n",
    "for i in range(len(run_dict)):\n",
    "# for i in [0]:\n",
    "    try:\n",
    "        mas = MultiAgentSystem(\n",
    "            agents=[planner_agent, banking_agent],\n",
    "            runner=run_dict[i]['runner'],\n",
    "            max_iterations=5,\n",
    "            enable_executor_memory=run_dict[i]['enable_executor_memory'],\n",
    "            shared_memory=run_dict[i]['shared_memory'],\n",
    "            use_memory=run_dict[i]['use_memory'],\n",
    "            termination_condition=MaxIterationsTermination(1)\n",
    "        )\n",
    "\n",
    "        results_ = await benchmark_suite(\n",
    "            multi_agent_system=mas,\n",
    "            suite=banking_task_suite,\n",
    "        )\n",
    "\n",
    "        res_dict.append( {**run_dict[i], **{'results': results_}} )\n",
    "        print(run_dict[i])\n",
    "        utility_count = sum(1 for result in results_.values() if result[\"utility\"])\n",
    "        print(f\"Utility Percentage: {utility_count / len(results_) * 100:.2f}%\")\n",
    "    except:\n",
    "        pass\n",
    "\n"
   ]
  },
  {
   "cell_type": "code",
   "execution_count": 8,
   "id": "01fa2687",
   "metadata": {},
   "outputs": [],
   "source": [
    "import pickle\n",
    "\n",
    "with open(\"data.pkl\", \"wb\") as f:\n",
    "    pickle.dump(results_, f)\n"
   ]
  },
  {
   "cell_type": "code",
   "execution_count": 16,
   "id": "4ab61f03",
   "metadata": {},
   "outputs": [
    {
     "name": "stdout",
     "output_type": "stream",
     "text": [
      "Utility Percentage: 85.71%\n"
     ]
    }
   ],
   "source": []
  },
  {
   "cell_type": "code",
   "execution_count": null,
   "id": "40d91d6c",
   "metadata": {},
   "outputs": [],
   "source": []
  }
 ],
 "metadata": {
  "kernelspec": {
   "display_name": "Python (myenv)",
   "language": "python",
   "name": "multiagent"
  },
  "language_info": {
   "codemirror_mode": {
    "name": "ipython",
    "version": 3
   },
   "file_extension": ".py",
   "mimetype": "text/x-python",
   "name": "python",
   "nbconvert_exporter": "python",
   "pygments_lexer": "ipython3",
   "version": "3.10.18"
  }
 },
 "nbformat": 4,
 "nbformat_minor": 5
}
